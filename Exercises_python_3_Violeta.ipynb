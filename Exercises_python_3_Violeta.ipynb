{
 "cells": [
  {
   "cell_type": "markdown",
   "id": "2d791992",
   "metadata": {},
   "source": [
    "<h1><center> Exercises 3</center>\n",
    "<h1><center>Cinthia Violeta Hernandez Puente</center>"
   ]
  },
  {
   "cell_type": "markdown",
   "id": "7199783e",
   "metadata": {},
   "source": [
    "### Exercise\n",
    "Write a function called \"letters_sequence\". This functions must returns \"True\" if the letters in a word appear in alphabetical order\n",
    "#### Topics: String methods"
   ]
  },
  {
   "cell_type": "code",
   "execution_count": 34,
   "id": "c162c27b",
   "metadata": {},
   "outputs": [],
   "source": [
    "def letters_sequence(word):\n",
    "    word1=sorted(word)\n",
    "    word2=[]\n",
    "    for i in word:\n",
    "        word2.append(i)\n",
    "    if word2 == word1:\n",
    "        return True\n",
    "    else:\n",
    "        return False"
   ]
  },
  {
   "cell_type": "markdown",
   "id": "983da453",
   "metadata": {},
   "source": [
    "### Exercise\n",
    "\n",
    "Write a function called \"middle_list\" that takes a list and returns a new list that contains all but the first and last elements.\n",
    "#### Topics: List methods"
   ]
  },
  {
   "cell_type": "code",
   "execution_count": 65,
   "id": "5e08c9b2",
   "metadata": {},
   "outputs": [],
   "source": [
    "# Your answer here:\n",
    "\n",
    "def middle_list(List):\n",
    "    new_list = List[1:]                       # Stores all the elements except the first one\n",
    "    del new_list[-1]                         # Deletes the last element from the new list\n",
    "    return new_list\n",
    "\n",
    "\n",
    "assert middle_list([\"a\",\"b\",\"c\"]) == [\"b\"], \"The function is not working as expected\"\n",
    "assert middle_list([\"a\",\"b\",\"c\",\"d\"]) == [\"b\",\"c\"], \"The function is not working as expected\"\n",
    "assert middle_list([1,2,3,4,5,6]) == [2,3,4,5], \"The function is not working as expected\""
   ]
  },
  {
   "cell_type": "markdown",
   "id": "349ec8fd",
   "metadata": {},
   "source": [
    "### Exercise\n",
    "Write a function called \"list_is_sorted\" that takes a list as a parameter and returns \"True\" if the list is sorted in ascending order and False otherwise. For example, list_is_sorted([1,2,2]) should return \"True\" and list_is_sorted(['b','a']) should return False.\n",
    "####  Topics: List methods, Conditional Executions"
   ]
  },
  {
   "cell_type": "code",
   "execution_count": 4,
   "id": "303c1b9d",
   "metadata": {
    "scrolled": true
   },
   "outputs": [
    {
     "name": "stdout",
     "output_type": "stream",
     "text": [
      "1 2\n",
      "True\n"
     ]
    }
   ],
   "source": [
    "# Your answer here:\n",
    "\n",
    "def list_is_sorted(x):\n",
    "    for i in range(len(x)-1): #len is for length\n",
    "        print(x[i], x[i+1]) \n",
    "        if x[i]<=x[i+1]:\n",
    "            return True\n",
    "    return False\n",
    " \n",
    "print(list_is_sorted([1,2,2]))"
   ]
  },
  {
   "cell_type": "markdown",
   "id": "41168427",
   "metadata": {},
   "source": [
    "### Exercise\n",
    "Write a function called \"remove_list_duplicates\" that takes a list and returns a new list with only the unique elements from the original.\n",
    "\n",
    "####  Topics: List methods, Conditional Executions"
   ]
  },
  {
   "cell_type": "code",
   "execution_count": null,
   "id": "b75f16bc",
   "metadata": {},
   "outputs": [],
   "source": [
    "# Your answer here:\n",
    "def remove_list_duplicates([]\n",
    "                           "
   ]
  },
  {
   "cell_type": "code",
   "execution_count": 9,
   "id": "db9921ce",
   "metadata": {},
   "outputs": [
    {
     "name": "stdout",
     "output_type": "stream",
     "text": [
      "[5, 3, 6]\n"
     ]
    }
   ],
   "source": [
    "def remove_list_duplicates(elements):\n",
    "    lista = [] \n",
    "    for i in elements : #the item is in elements introduced then it is going to check if the i is not in the list and then will append it \n",
    "        if i not in lista: \n",
    "            lista.append(i) #if the item is not in elements will add the item\n",
    "    return lista\n",
    "\n",
    "print(remove_list_duplicates([5, 3, 3, 6, 6]))"
   ]
  },
  {
   "cell_type": "code",
   "execution_count": null,
   "id": "3a277628",
   "metadata": {},
   "outputs": [],
   "source": []
  }
 ],
 "metadata": {
  "kernelspec": {
   "display_name": "Python 3 (ipykernel)",
   "language": "python",
   "name": "python3"
  },
  "language_info": {
   "codemirror_mode": {
    "name": "ipython",
    "version": 3
   },
   "file_extension": ".py",
   "mimetype": "text/x-python",
   "name": "python",
   "nbconvert_exporter": "python",
   "pygments_lexer": "ipython3",
   "version": "3.9.6"
  }
 },
 "nbformat": 4,
 "nbformat_minor": 5
}
