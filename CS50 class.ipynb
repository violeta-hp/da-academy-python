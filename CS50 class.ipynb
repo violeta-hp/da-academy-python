{
 "cells": [
  {
   "cell_type": "markdown",
   "id": "4998c88d",
   "metadata": {},
   "source": [
    "                                    CS50 PYTHON EXERCISES"
   ]
  },
  {
   "cell_type": "code",
   "execution_count": null,
   "id": "e7ec8c0d",
   "metadata": {},
   "outputs": [],
   "source": [
    "name= input(\"Name:\")\n",
    "print(\"Hello, \"+ name)\n",
    "\n",
    "name= input(\"Name:\")\n",
    "print(f\"Hello, {name}\")"
   ]
  },
  {
   "cell_type": "code",
   "execution_count": null,
   "id": "202c54f6",
   "metadata": {},
   "outputs": [],
   "source": [
    "n= int(input(\"Number: \"))\n",
    "if n>0:\n",
    "    print(\"n is positive\")\n",
    "elif n<0:\n",
    "    print(\"n is negative\")\n",
    "else:\n",
    "    print(\"n is zero\")"
   ]
  },
  {
   "cell_type": "code",
   "execution_count": null,
   "id": "ad079d8e",
   "metadata": {},
   "outputs": [],
   "source": [
    "name=\"Harry\"\n",
    "print(name[0:5])"
   ]
  },
  {
   "cell_type": "code",
   "execution_count": null,
   "id": "14d9370f",
   "metadata": {},
   "outputs": [],
   "source": [
    "s= set()\n",
    "\n",
    "s.add(1)\n",
    "s.add(2)\n",
    "s.add(3)\n",
    "s.add(4)\n",
    "print (s)\n",
    "#s.remove(2)\n",
    "#print(s)\n",
    "print(f\"The set has {len(s)} elements.\")"
   ]
  },
  {
   "cell_type": "code",
   "execution_count": null,
   "id": "415478b9",
   "metadata": {},
   "outputs": [],
   "source": [
    "for i in [0,1,2,3,4,5]:\n",
    "    print(i)"
   ]
  },
  {
   "cell_type": "code",
   "execution_count": null,
   "id": "27e88800",
   "metadata": {},
   "outputs": [],
   "source": [
    "for i in range(6):\n",
    "    print(i)"
   ]
  },
  {
   "cell_type": "code",
   "execution_count": null,
   "id": "3c8885d7",
   "metadata": {},
   "outputs": [],
   "source": [
    "names=[\"Celeste\",\"Violeta\",'Rosa']\n",
    "for name in names:\n",
    "        print(name)"
   ]
  },
  {
   "cell_type": "code",
   "execution_count": null,
   "id": "b7fc28ff",
   "metadata": {},
   "outputs": [],
   "source": [
    "#For loop\n",
    "name='Celeste'\n",
    "for character in name:\n",
    "    print(character)"
   ]
  },
  {
   "cell_type": "code",
   "execution_count": null,
   "id": "06976695",
   "metadata": {},
   "outputs": [],
   "source": [
    "#Dictionaries\n",
    "houses={\"Harry\":\"Gryffindor\",\"Draco\":\"Slytherin\"}\n",
    "print(houses[\"Harry\"])\n",
    "print(houses[\"Draco\"])"
   ]
  },
  {
   "cell_type": "code",
   "execution_count": null,
   "id": "d9333526",
   "metadata": {},
   "outputs": [],
   "source": [
    "houses={\"Harry\":\"Gryffindor\",\"Draco\":\"Slytherin\"}\n",
    "houses[\"Hermione\"]=\"Gryffindor\"\n",
    "print(houses[\"Hermione\"])"
   ]
  },
  {
   "cell_type": "code",
   "execution_count": null,
   "id": "ae493f2f",
   "metadata": {},
   "outputs": [],
   "source": [
    "houses={\"Harry\":\"Gryffindor\",\"Draco\":\"Slytherin\"}\n",
    "houses[\"Hermione\"]=\"Gryffindor\"\n",
    "print(houses)"
   ]
  },
  {
   "cell_type": "code",
   "execution_count": null,
   "id": "7b92e274",
   "metadata": {},
   "outputs": [],
   "source": [
    "#Functions\n",
    "def square(x):\n",
    "    return x*x"
   ]
  },
  {
   "cell_type": "code",
   "execution_count": null,
   "id": "dd21864e",
   "metadata": {},
   "outputs": [],
   "source": [
    "def square(x):\n",
    "    return x*x\n",
    "for i in range(10):\n",
    "    print(f\"The square of {i} is {square(i)}\")"
   ]
  },
  {
   "cell_type": "code",
   "execution_count": null,
   "id": "0526235f",
   "metadata": {},
   "outputs": [],
   "source": [
    "class Point():\n",
    "#__init__ is a method or function that is going to be called every time I try to create a new point\n",
    "    def __init__(self, input1, input2): #self is the object in question in which we are going to store a value \n",
    "        self.x= input1 \n",
    "        self.y= input2\n",
    "\n",
    "p=Point(\"Hola\", \"Viole\")\n",
    "print(p.x)\n",
    "print(p.y)"
   ]
  },
  {
   "cell_type": "code",
   "execution_count": null,
   "id": "66a74b05",
   "metadata": {},
   "outputs": [],
   "source": [
    "class Flight():\n",
    "    def __init__(self, capacity):  # self is the object in question\n",
    "        self.capacity = capacity\n",
    "        self.passengers = []\n",
    "\n",
    "    def add_passenger(self, name):\n",
    "        if not self.open_seats():\n",
    "            return False\n",
    "        self.passengers.append(name)\n",
    "        return True\n",
    "\n",
    "    def open_seats(self):\n",
    "        return self.capacity - len(self.passengers)\n",
    "\n",
    "flight = Flight(3)\n",
    "\n",
    "people = ['Violeta', 'Rosa', 'Celeste', 'Julia']\n",
    "for person in people:\n",
    "    if flight.add_passenger(person):\n",
    "        print(f\"Added {person} to flight successfully.\")\n",
    "    else:\n",
    "        print(f\"Not available seats for {person}\")\n"
   ]
  },
  {
   "cell_type": "code",
   "execution_count": null,
   "id": "62716373",
   "metadata": {},
   "outputs": [],
   "source": [
    "#Decorators is a function that takes a function as an input\n",
    "#and adds an additional behavior to that function so it is going to be modified\n",
    "\n",
    "def announce(f):\n",
    "    def wrapper():\n",
    "        print(\"About to run the function...\")\n",
    "        f()\n",
    "        print(\"Done with the function.\")\n",
    "    return wrapper\n",
    "\n",
    "@announce\n",
    "def hello():\n",
    "    print(\"Hello, world!\")\n",
    "\n",
    "hello()\n",
    "\n",
    "#Decorators are useful for Django"
   ]
  },
  {
   "cell_type": "code",
   "execution_count": null,
   "id": "15e08812",
   "metadata": {},
   "outputs": [],
   "source": [
    "#list of name and inside this each person is gonna be a dictionary\n",
    "#dictionary inside a list called people\n",
    "people=[\n",
    "    {'name':'Harry', 'house':'Gryffindor'},\n",
    "    {'name':'Cho', 'house':'Ravenclar'},\n",
    "    {'name':'Draco', 'house':'Slytherin'}\n",
    "]\n",
    "\n",
    "def f(person): #function that will get the person from the dictionary\n",
    "    return person[\"house\"] #sorting by house \n",
    "\n",
    "people.sort(key=f) #sorting according to the given key\n",
    "\n",
    "print(people)"
   ]
  },
  {
   "cell_type": "code",
   "execution_count": null,
   "id": "3b9b9d26",
   "metadata": {},
   "outputs": [],
   "source": [
    "#Same thing as above but with lambda function\n",
    "people=[\n",
    "    {'name':'Harry', 'house':'Gryffindor'},\n",
    "    {'name':'Cho', 'house':'Ravenclar'},\n",
    "    {'name':'Draco', 'house':'Slytherin'}\n",
    "]\n",
    "\n",
    "#lambda function a single value in a single line\n",
    "people.sort(key=lambda person:person[\"house\"])\n",
    "print(people)"
   ]
  },
  {
   "cell_type": "code",
   "execution_count": null,
   "id": "9abb848c",
   "metadata": {},
   "outputs": [],
   "source": [
    "#Exception\n",
    "x= int(input(\"x: \"))\n",
    "y= int(input(\"y: \"))\n",
    "\n",
    "result= x/y\n",
    "\n",
    "print(f\"{x}/{y}= {result}\")"
   ]
  },
  {
   "cell_type": "code",
   "execution_count": null,
   "id": "976d698c",
   "metadata": {},
   "outputs": [],
   "source": [
    "#In the ex above when we have a 0 as a divisor we get an error and now with try and except\n",
    "#we are gonna have a different message when this happens\n",
    "\n",
    "#Exception\n",
    "import sys\n",
    "\n",
    "x= int(input(\"x: \"))\n",
    "y= int(input(\"y: \"))\n",
    "\n",
    "try:\n",
    "    result = x / y\n",
    "except ZeroDivisionError:\n",
    "    print(\"Error: Cannot divide by 0.\")\n",
    "    sys.exit(1)\n",
    "    \n",
    "print(f\"{x} / {y}= {result}\")\n",
    "\n",
    "#It works properly in an IDE not in Jupyter notebook"
   ]
  },
  {
   "cell_type": "code",
   "execution_count": 3,
   "id": "c315f1b4",
   "metadata": {},
   "outputs": [
    {
     "name": "stdout",
     "output_type": "stream",
     "text": [
      "x: 9\n",
      "y: 2\n",
      "9 / 2= 4.5\n"
     ]
    }
   ],
   "source": [
    "#Exceptions but with a different type of value\n",
    "#Try and except but when we get a str for ex. \n",
    "import sys\n",
    "\n",
    "try:\n",
    "    x= int(input(\"x: \"))\n",
    "    y= int(input(\"y: \"))\n",
    "except ValueError:\n",
    "    print(\"Error: invalid input\")\n",
    "    sys.exit(1)\n",
    "\n",
    "try:\n",
    "    result = x / y\n",
    "except ZeroDivisionError:\n",
    "    print(\"Error: Cannot divide by 0.\")\n",
    "    sys.exit(1)\n",
    "    \n",
    "print(f\"{x} / {y}= {result}\")\n",
    "\n",
    "#It works properly in an IDE not in Jupyter notebook"
   ]
  },
  {
   "cell_type": "code",
   "execution_count": null,
   "id": "9cf7ef94",
   "metadata": {},
   "outputs": [],
   "source": []
  }
 ],
 "metadata": {
  "kernelspec": {
   "display_name": "Python 3 (ipykernel)",
   "language": "python",
   "name": "python3"
  },
  "language_info": {
   "codemirror_mode": {
    "name": "ipython",
    "version": 3
   },
   "file_extension": ".py",
   "mimetype": "text/x-python",
   "name": "python",
   "nbconvert_exporter": "python",
   "pygments_lexer": "ipython3",
   "version": "3.9.6"
  }
 },
 "nbformat": 4,
 "nbformat_minor": 5
}
