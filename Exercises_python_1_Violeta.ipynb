{
 "cells": [
  {
   "cell_type": "markdown",
   "id": "3afef2cd",
   "metadata": {},
   "source": [
    "<h1><center>Python Academy - Exercises - 1</center></h1>\n",
    "<h1><center>(Cinthia Violeta Hernandez Puente)</center></h1>"
   ]
  },
  {
   "cell_type": "markdown",
   "id": "e29dc2dc",
   "metadata": {},
   "source": [
    "### Exercise 1\n",
    "\n",
    "Write a function called \"compare_x_y\"  that receives 2 paramters (x,y) and returns 1 if x > y, 0 if x == y, and -1 if x < y\n",
    "\n",
    "#### Topics: Basic Operators, Conditional Executions\n"
   ]
  },
  {
   "cell_type": "code",
   "execution_count": 1,
   "id": "f9e89c37",
   "metadata": {},
   "outputs": [],
   "source": [
    "# Your answer here:\n",
    "def compare_x_y(x,y):\n",
    "    if x>y:\n",
    "        return 1\n",
    "    elif x==y:\n",
    "        return 0\n",
    "    else:\n",
    "        return -1\n",
    "    \n",
    "assert compare_x_y(5,4) == 1, \"The function is not working as expected\"\n",
    "assert compare_x_y(4,4) == 0, \"The function is not working as expected\"\n",
    "assert compare_x_y(3,4) == -1, \"The function is not working as expected\""
   ]
  },
  {
   "cell_type": "markdown",
   "id": "c3a55396",
   "metadata": {},
   "source": [
    "### Exercise 2\n",
    "\n",
    "Write a function called \"hypotenuse\" that returns the length of the hypotenuse of a right triangle given the lengths of the two legs as arguments.\n",
    "\n",
    "#### Topics: Basic Operators"
   ]
  },
  {
   "cell_type": "code",
   "execution_count": 2,
   "id": "264d276b",
   "metadata": {},
   "outputs": [
    {
     "name": "stdout",
     "output_type": "stream",
     "text": [
      "The hypotaneous of the triangle will be: 11.180339887498949\n"
     ]
    }
   ],
   "source": [
    "import math\n",
    "def hypotenuse(x, y):\n",
    "    return math.sqrt(x ** 2 + y ** 2)\n",
    "print (\"The hypotaneous of the triangle will be:\",hypotenuse(5, 10))\n",
    "\n",
    "assert \"{:.2f}\".format(hypotenuse(12,14)) == \"18.44\", \"The function is not working as expected\"\n",
    "assert \"{:.2f}\".format(hypotenuse(45,34)) == \"56.40\", \"The function is not working as expected\"\n",
    "assert \"{:.2f}\".format(hypotenuse(1,2)) == \"2.24\", \"The function is not working as expected\""
   ]
  },
  {
   "cell_type": "markdown",
   "id": "7aefae51",
   "metadata": {},
   "source": [
    "### Exercise 3\n",
    "\n",
    "Write a function called is_between(x, y, z) that returns True if x ≤ y ≤ z or False otherwise.\n",
    "\n",
    "#### Topics: Basic Operators"
   ]
  },
  {
   "cell_type": "code",
   "execution_count": 3,
   "id": "ba23e86a",
   "metadata": {},
   "outputs": [],
   "source": [
    "# Your answer here:\n",
    "#x= input('Primer valor: ')\n",
    "#y= input('Primer valor: ')\n",
    "#z= input('Primer valor: ')\n",
    "\n",
    "def is_between(x, y, z):\n",
    "    if x <= y <= z:\n",
    "        return (True)\n",
    "    else:\n",
    "        return (False)\n",
    "    \n",
    "    print (is_between(x, y, z))\n",
    "    \n",
    "#is_between(x,y,z)\n",
    "\n",
    "assert is_between(3,4,5) == True, \"The function is not working as expected\"\n",
    "assert is_between(4,6,1) == False, \"The function is not working as expected\"\n",
    "assert is_between(4,4,4) == True, \"The function is not working as expected\""
   ]
  },
  {
   "cell_type": "markdown",
   "id": "7a35269c",
   "metadata": {},
   "source": [
    "### Exercise 4\n",
    "\n",
    "A number, X, is a power of Y if it is divisible by Y and X/Y is a power of Y. \n",
    "\n",
    "Write a function called is_power that takes parameters X and Y and returns True if X is a power of Y.\n",
    "\n",
    "#### Topics: Basic Operators"
   ]
  },
  {
   "cell_type": "code",
   "execution_count": 4,
   "id": "6f9929d1",
   "metadata": {
    "scrolled": true
   },
   "outputs": [],
   "source": [
    "# Your answer here:\n",
    "\n",
    "def is_power(x, y):\n",
    "    while x % y == 0:\n",
    "        if x == y: return True\n",
    "        x /= y\n",
    "    return False\n",
    "#print(is_power(7, 4))\n",
    "\n",
    "\n",
    "assert is_power(64,4) == True, \"The function is not working as expected\"\n",
    "assert is_power(6,2) == False, \"The function is not working as expected\"\n",
    "assert is_power(1296,6) == True, \"The function is not working as expected\"\n",
    "\n"
   ]
  },
  {
   "cell_type": "code",
   "execution_count": null,
   "id": "1ac72275",
   "metadata": {},
   "outputs": [],
   "source": [
    "# assert and any condition (this function should be equal to sth)"
   ]
  },
  {
   "cell_type": "markdown",
   "id": "1d4275f4",
   "metadata": {},
   "source": [
    "### Exercise 5\n",
    "\n",
    "Write a function called \"greatest_common_divisor\" that takes parameters a and b and returns their greatest common divisor.\n",
    "\n",
    "#### Topics: Basic Operators"
   ]
  },
  {
   "cell_type": "code",
   "execution_count": 6,
   "id": "3af5d687",
   "metadata": {},
   "outputs": [],
   "source": [
    "# Your answer here:\n",
    "def gcd(a, b):\n",
    "    if b ==0:\n",
    "        return a\n",
    "    return (gcd (b, a%b))\n",
    "\n",
    "assert gcd(64,4) == 4, \"The function is not working as expected\"\n",
    "assert gcd(6,2) == 2, \"The function is not working as expected\"\n",
    "assert gcd(12,36) == 12, \"The function is not working as expected\""
   ]
  },
  {
   "cell_type": "markdown",
   "id": "289e5952",
   "metadata": {},
   "source": [
    "### Exercise 6\n",
    "Write a function called \"print_backward\" that takes a string as an argument and displays the letters backward, one per line.\n",
    "\n",
    "#### Topics: Loops, Slices, String methods"
   ]
  },
  {
   "cell_type": "code",
   "execution_count": 7,
   "id": "8f4184e0",
   "metadata": {},
   "outputs": [
    {
     "data": {
      "text/plain": [
       "'ateloiV'"
      ]
     },
     "execution_count": 7,
     "metadata": {},
     "output_type": "execute_result"
    }
   ],
   "source": [
    "# Your answer here:\n",
    "def print_backward(letter): \n",
    "    str = \"\" \n",
    "    for i in letter: \n",
    "        str = i + str\n",
    "        return str\n",
    "'Violeta'[::-1]"
   ]
  },
  {
   "cell_type": "code",
   "execution_count": 71,
   "id": "1c19d251",
   "metadata": {},
   "outputs": [
    {
     "name": "stdout",
     "output_type": "stream",
     "text": [
      "<reversed object at 0x0000027B5BC0F070>\n",
      "o\n",
      "l\n",
      "l\n",
      "e\n",
      "H\n",
      "None\n"
     ]
    }
   ],
   "source": [
    "###FROM THE CLASS\n",
    "def print_backward(s):\n",
    "    print(reversed(s))\n",
    "    for y in reversed(s):\n",
    "        print(y)\n",
    "print(print_backward(\"Hello\"))"
   ]
  },
  {
   "cell_type": "markdown",
   "id": "bed56cb9",
   "metadata": {},
   "source": [
    "### Exercise 7\n",
    "\n",
    "Write a function called \"is_palindrome\" that takes a string argument and returns \"True\" if it is a palindrome and False otherwise. \n",
    "\n",
    "Note: String can include blanks spaces\n",
    "\n",
    "#### Topics: Slices, String methods"
   ]
  },
  {
   "cell_type": "code",
   "execution_count": null,
   "id": "dc021899",
   "metadata": {},
   "outputs": [],
   "source": [
    "# Your answer here:\n",
    "def isPalindrome(string):\n",
    "    init = 0\n",
    "    n = len(string) - 1\n",
    "    while n >= init:\n",
    "        if not string[init] == string[n]:\n",
    "            return False\n",
    "        init += 1\n",
    "        n -= 1\n",
    "    return True\n",
    "print(isPalindrome('aza')) \n",
    "\n",
    "assert is_palindrome(\"A mi loca Colima\") == True, \"The function is not working as expected\"\n",
    "assert is_palindrome(\"roma\") == False, \"The function is not working as expected\"\n",
    "assert is_palindrome(\"madam\") == True, \"The function is not working as expected\"\n",
    "assert is_palindrome(\"Alli ves a Sevilla\") == True, \"The function is not working as expected\""
   ]
  },
  {
   "cell_type": "markdown",
   "id": "906fd2e9",
   "metadata": {},
   "source": [
    "### Exercise 8\n",
    "Write a function named \"avoids\" that promts the user to enter 2 paramters: a \"string\" and a \"string\" of forbidden letters\n",
    "The functions must return True if the word doesn’t use any of the forbidden letters, otherwise, False \n",
    "\n",
    "#### Topics: String methods, Conditioinal execution"
   ]
  },
  {
   "cell_type": "code",
   "execution_count": 13,
   "id": "22d69935",
   "metadata": {},
   "outputs": [],
   "source": [
    "# Your answer here:\n",
    "\n",
    "def avoids(sA,sB):\n",
    "    for letter in sA: #for loop goes through all characters from s1 or word\n",
    "        if letter in sB: #if the letter uses a forbidden letter will return False \n",
    "            return False\n",
    "        return True      #if the letter does not use a forbidden letter\n",
    "    \n",
    "#assert avoids(\"Jose\",\"zrtp\") == True, \"The function is not working as expected\"\n",
    "#assert avoids(\"Maria\", \"abcde\") == False, \"The function is not working as expected\"\n",
    "#assert avoids(\"Mate\", \"abcde\") == False, \"The function is not working as expected\"\n",
    "#assert avoids(\"Mate\", \"bcd\") == True, \"The function is not working as expected\""
   ]
  },
  {
   "cell_type": "markdown",
   "id": "7199783e",
   "metadata": {},
   "source": [
    "### Exercise 9\n",
    "Write a function called \"letters_sequence\". This functions must returns \"True\" if the letters in a word appear in alphabetical order\n",
    "#### Topics: String methods"
   ]
  },
  {
   "cell_type": "code",
   "execution_count": 14,
   "id": "e01f0dd7",
   "metadata": {},
   "outputs": [],
   "source": [
    "# Your answer here:\n",
    "\n",
    "def letters_sequence(word):\n",
    "    word1=sorted(word)\n",
    "    word2=[]\n",
    "    for i in word:\n",
    "        word2.append(i)\n",
    "    if word2 == word1:\n",
    "        return True\n",
    "    else:\n",
    "        return False\n",
    "#word= input(\"Please enter a word: \" word)"
   ]
  },
  {
   "cell_type": "markdown",
   "id": "983da453",
   "metadata": {},
   "source": [
    "### Exercise 10\n",
    "\n",
    "Write a function called \"middle_list\" that takes a list and returns a new list that contains all but the first and last elements.\n",
    "#### Topics: List methods"
   ]
  },
  {
   "cell_type": "code",
   "execution_count": 15,
   "id": "5e08c9b2",
   "metadata": {},
   "outputs": [],
   "source": [
    "# Your answer here:\n",
    "def middle_list(List):\n",
    "    new_list = List[1:]                       # Stores all the elements except the first one\n",
    "    del new_list[-1]                         # Deletes the last element from the new list\n",
    "    return new_list\n",
    "\n",
    "\n",
    "assert middle_list([\"a\",\"b\",\"c\"]) == [\"b\"], \"The function is not working as expected\"\n",
    "assert middle_list([\"a\",\"b\",\"c\",\"d\"]) == [\"b\",\"c\"], \"The function is not working as expected\"\n",
    "assert middle_list([1,2,3,4,5,6]) == [2,3,4,5], \"The function is not working as expected\""
   ]
  },
  {
   "cell_type": "code",
   "execution_count": null,
   "id": "2fd5c8ec",
   "metadata": {},
   "outputs": [],
   "source": []
  }
 ],
 "metadata": {
  "kernelspec": {
   "display_name": "Python 3 (ipykernel)",
   "language": "python",
   "name": "python3"
  },
  "language_info": {
   "codemirror_mode": {
    "name": "ipython",
    "version": 3
   },
   "file_extension": ".py",
   "mimetype": "text/x-python",
   "name": "python",
   "nbconvert_exporter": "python",
   "pygments_lexer": "ipython3",
   "version": "3.9.6"
  }
 },
 "nbformat": 4,
 "nbformat_minor": 5
}
