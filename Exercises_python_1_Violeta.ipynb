{
 "cells": [
  {
   "cell_type": "markdown",
   "source": [
    "<h1><center>Python Academy - Exercises - 1</center></h1>\n",
    "<h1><center>(Cinthia Violeta Hernandez Puente)</center></h1>"
   ],
   "metadata": {}
  },
  {
   "cell_type": "markdown",
   "source": [
    "### Exercise 1\n",
    "\n",
    "Write a function called \"compare_x_y\"  that receives 2 paramters (x,y) and returns 1 if x > y, 0 if x == y, and -1 if x < y\n",
    "\n",
    "#### Topics: Basic Operators, Conditional Executions\n"
   ],
   "metadata": {}
  },
  {
   "cell_type": "code",
   "execution_count": 1,
   "source": [
    "# Your answer here:\r\n",
    "def compare_x_y(x,y):\r\n",
    "    if x>y:\r\n",
    "        return 1\r\n",
    "    elif x==y:\r\n",
    "        return 0\r\n",
    "    else:\r\n",
    "        return -1\r\n",
    "    \r\n",
    "assert compare_x_y(5,4) == 1, \"The function is not working as expected\"\r\n",
    "assert compare_x_y(4,4) == 0, \"The function is not working as expected\"\r\n",
    "assert compare_x_y(3,4) == -1, \"The function is not working as expected\""
   ],
   "outputs": [],
   "metadata": {}
  },
  {
   "cell_type": "markdown",
   "source": [
    "### Exercise 2\n",
    "\n",
    "Write a function called \"hypotenuse\" that returns the length of the hypotenuse of a right triangle given the lengths of the two legs as arguments.\n",
    "\n",
    "#### Topics: Basic Operators"
   ],
   "metadata": {}
  },
  {
   "cell_type": "code",
   "execution_count": 2,
   "source": [
    "import math\r\n",
    "def hypotenuse(x, y):\r\n",
    "    return math.sqrt(x ** 2 + y ** 2)\r\n",
    "print (\"The hypotaneous of the triangle will be:\",hypotenuse(5, 10))\r\n",
    "\r\n",
    "assert \"{:.2f}\".format(hypotenuse(12,14)) == \"18.44\", \"The function is not working as expected\"\r\n",
    "assert \"{:.2f}\".format(hypotenuse(45,34)) == \"56.40\", \"The function is not working as expected\"\r\n",
    "assert \"{:.2f}\".format(hypotenuse(1,2)) == \"2.24\", \"The function is not working as expected\""
   ],
   "outputs": [
    {
     "output_type": "stream",
     "name": "stdout",
     "text": [
      "The hypotaneous of the triangle will be: 11.180339887498949\n"
     ]
    }
   ],
   "metadata": {}
  },
  {
   "cell_type": "markdown",
   "source": [
    "### Exercise 3\n",
    "\n",
    "Write a function called is_between(x, y, z) that returns True if x ≤ y ≤ z or False otherwise.\n",
    "\n",
    "#### Topics: Basic Operators"
   ],
   "metadata": {}
  },
  {
   "cell_type": "code",
   "execution_count": 3,
   "source": [
    "# Your answer here:\r\n",
    "#x= input('Primer valor: ')\r\n",
    "#y= input('Primer valor: ')\r\n",
    "#z= input('Primer valor: ')\r\n",
    "\r\n",
    "def is_between(x, y, z):\r\n",
    "    if x <= y <= z:\r\n",
    "        return (True)\r\n",
    "    else:\r\n",
    "        return (False)\r\n",
    "    \r\n",
    "    print (is_between(x, y, z))\r\n",
    "    \r\n",
    "#is_between(x,y,z)\r\n",
    "\r\n",
    "assert is_between(3,4,5) == True, \"The function is not working as expected\"\r\n",
    "assert is_between(4,6,1) == False, \"The function is not working as expected\"\r\n",
    "assert is_between(4,4,4) == True, \"The function is not working as expected\""
   ],
   "outputs": [],
   "metadata": {}
  },
  {
   "cell_type": "markdown",
   "source": [
    "### Exercise 4\n",
    "\n",
    "A number, X, is a power of Y if it is divisible by Y and X/Y is a power of Y. \n",
    "\n",
    "Write a function called is_power that takes parameters X and Y and returns True if X is a power of Y.\n",
    "\n",
    "#### Topics: Basic Operators"
   ],
   "metadata": {}
  },
  {
   "cell_type": "code",
   "execution_count": 1,
   "source": [
    "# Your answer here:\r\n",
    "\r\n",
    "def is_power(x, y):\r\n",
    "    while x % y == 0:\r\n",
    "        if x == y: \r\n",
    "            return True\r\n",
    "        x /= y\r\n",
    "    return False\r\n",
    "#print(is_power(7, 4))\r\n",
    "\r\n",
    "\r\n",
    "assert is_power(64,4) == True, \"The function is not working as expected\"\r\n",
    "assert is_power(6,2) == False, \"The function is not working as expected\"\r\n",
    "assert is_power(1296,6) == True, \"The function is not working as expected\"\r\n",
    "\r\n"
   ],
   "outputs": [],
   "metadata": {
    "scrolled": true
   }
  },
  {
   "cell_type": "code",
   "execution_count": null,
   "source": [
    "# assert and any condition (this function should be equal to sth)"
   ],
   "outputs": [],
   "metadata": {}
  },
  {
   "cell_type": "markdown",
   "source": [
    "### Exercise 5\n",
    "\n",
    "Write a function called \"greatest_common_divisor\" that takes parameters a and b and returns their greatest common divisor.\n",
    "\n",
    "#### Topics: Basic Operators"
   ],
   "metadata": {}
  },
  {
   "cell_type": "code",
   "execution_count": 2,
   "source": [
    "# Your answer here:\r\n",
    "def gcd(a, b):\r\n",
    "    if b ==0:\r\n",
    "        return a\r\n",
    "    return (gcd (b, a%b))\r\n",
    "\r\n",
    "assert gcd(64,4) == 4, \"The function is not working as expected\"\r\n",
    "assert gcd(6,2) == 2, \"The function is not working as expected\"\r\n",
    "assert gcd(12,36) == 12, \"The function is not working as expected\""
   ],
   "outputs": [],
   "metadata": {}
  },
  {
   "cell_type": "markdown",
   "source": [
    "### Exercise 6\n",
    "Write a function called \"print_backward\" that takes a string as an argument and displays the letters backward, one per line.\n",
    "\n",
    "#### Topics: Loops, Slices, String methods"
   ],
   "metadata": {}
  },
  {
   "cell_type": "code",
   "execution_count": 7,
   "source": [
    "# Your answer here:\r\n",
    "def print_backward(letter): \r\n",
    "    str = \"\" \r\n",
    "    for i in letter: \r\n",
    "        str = i + str\r\n",
    "        return str\r\n",
    "'Violeta'[::-1]"
   ],
   "outputs": [
    {
     "output_type": "execute_result",
     "data": {
      "text/plain": [
       "'ateloiV'"
      ]
     },
     "metadata": {},
     "execution_count": 7
    }
   ],
   "metadata": {}
  },
  {
   "cell_type": "code",
   "execution_count": 4,
   "source": [
    "txt = \"Hello World\" [::-1]\r\n",
    "print(txt)"
   ],
   "outputs": [
    {
     "output_type": "stream",
     "name": "stdout",
     "text": [
      "dlroW olleH\n"
     ]
    }
   ],
   "metadata": {}
  },
  {
   "cell_type": "code",
   "execution_count": 3,
   "source": [
    "###FROM THE CLASS\r\n",
    "def print_backward(s):\r\n",
    "    print(reversed(s))\r\n",
    "    for y in reversed(s):\r\n",
    "        print(y)\r\n",
    "print(print_backward(\"Hello\"))"
   ],
   "outputs": [
    {
     "output_type": "stream",
     "name": "stdout",
     "text": [
      "<reversed object at 0x0000023BA21418B0>\n",
      "o\n",
      "l\n",
      "l\n",
      "e\n",
      "H\n",
      "None\n"
     ]
    }
   ],
   "metadata": {}
  },
  {
   "cell_type": "markdown",
   "source": [
    "### Exercise 7\r\n",
    "\r\n",
    "Write a function called \"is_palindrome\" that takes a string argument and returns \"True\" if it is a palindrome and False otherwise. \r\n",
    "\r\n",
    "Note: String can include blanks spaces\r\n",
    "\r\n",
    "#### Topics: Slices, String methods"
   ],
   "metadata": {}
  },
  {
   "cell_type": "code",
   "execution_count": null,
   "source": [
    "# Your answer here:\r\n",
    "def isPalindrome(string):\r\n",
    "    init = 0\r\n",
    "    n = len(string) - 1\r\n",
    "    while n >= init:\r\n",
    "        if not string[init] == string[n]:\r\n",
    "            return False\r\n",
    "        init += 1\r\n",
    "        n -= 1\r\n",
    "    return True\r\n",
    "print(isPalindrome('aza')) \r\n",
    "\r\n",
    "assert is_palindrome(\"A mi loca Colima\") == True, \"The function is not working as expected\"\r\n",
    "assert is_palindrome(\"roma\") == False, \"The function is not working as expected\"\r\n",
    "assert is_palindrome(\"madam\") == True, \"The function is not working as expected\"\r\n",
    "assert is_palindrome(\"Alli ves a Sevilla\") == True, \"The function is not working as expected\""
   ],
   "outputs": [],
   "metadata": {}
  },
  {
   "cell_type": "markdown",
   "source": [
    "### Exercise 8\r\n",
    "Write a function named \"avoids\" that promts the user to enter 2 paramters: a \"string\" and a \"string\" of forbidden letters\r\n",
    "The functions must return True if the word doesn’t use any of the forbidden letters, otherwise, False \r\n",
    "\r\n",
    "#### Topics: String methods, Conditioinal execution"
   ],
   "metadata": {}
  },
  {
   "cell_type": "code",
   "execution_count": 14,
   "source": [
    "# Your answer here:\r\n",
    "\r\n",
    "def avoids(sA,sB):\r\n",
    "    for char in sB: #for loop goes through all characters from s1 or word\r\n",
    "        if char in sA: #if the letter uses a forbidden letter will return False \r\n",
    "            return False\r\n",
    "        return True #if the letter does not use a forbidden letter\r\n",
    "\r\n",
    "    \r\n",
    "assert avoids(\"Jose\",\"zrtp\") == True, \"The function is not working as expected\"\r\n",
    "assert avoids(\"Maria\", \"abcde\") == False, \"The function is not working as expected\"\r\n",
    "assert avoids(\"Mate\", \"abcde\") == False, \"The function is not working as expected\"\r\n",
    "assert avoids(\"Mate\", \"bcd\") == True, \"The function is not working as expected\""
   ],
   "outputs": [],
   "metadata": {}
  },
  {
   "cell_type": "markdown",
   "source": [
    "### Exercise 9\n",
    "Write a function called \"letters_sequence\". This functions must returns \"True\" if the letters in a word appear in alphabetical order\n",
    "#### Topics: String methods"
   ],
   "metadata": {}
  },
  {
   "cell_type": "code",
   "execution_count": 27,
   "source": [
    "# Your answer here:\r\n",
    "\r\n",
    "def letters_sequence(word):\r\n",
    "    word1=sorted(word)\r\n",
    "    word2=[]\r\n",
    "    for i in word:\r\n",
    "        word2.append(i)\r\n",
    "    if word2 == word1:\r\n",
    "        return True\r\n",
    "    else:\r\n",
    "        return False\r\n",
    "\r\n",
    "print(letters_sequence(\"ABCD\"))\r\n",
    "#assert letters_sequence(\"ABCD\") == True, \"The function is working as expected\"\r\n",
    "#assert letters_sequence(\"FDES\") == False, \"The function is not working as expected\""
   ],
   "outputs": [
    {
     "output_type": "stream",
     "name": "stdout",
     "text": [
      "True\n"
     ]
    }
   ],
   "metadata": {}
  },
  {
   "cell_type": "markdown",
   "source": [
    "### Exercise 10\n",
    "\n",
    "Write a function called \"middle_list\" that takes a list and returns a new list that contains all but the first and last elements.\n",
    "#### Topics: List methods"
   ],
   "metadata": {}
  },
  {
   "cell_type": "code",
   "execution_count": 30,
   "source": [
    "# Your answer here:\r\n",
    "def middle_list(List):\r\n",
    "    new_list = List[1:]                       # Stores all the elements except the first one\r\n",
    "    del new_list[-1]                         # Deletes the last element from the new list\r\n",
    "    return new_list\r\n",
    "\r\n",
    "print(middle_list([1,2,3,4]))\r\n",
    "#assert middle_list([\"a\",\"b\",\"c\"]) == [\"b\"], \"The function is not working as expected\"\r\n",
    "#assert middle_list([\"a\",\"b\",\"c\",\"d\"]) == [\"b\",\"c\"], \"The function is not working as expected\"\r\n",
    "#assert middle_list([1,2,3,4,5,6]) == [2,3,4,5], \"The function is not working as expected\""
   ],
   "outputs": [
    {
     "output_type": "stream",
     "name": "stdout",
     "text": [
      "[2, 3]\n"
     ]
    }
   ],
   "metadata": {}
  },
  {
   "cell_type": "code",
   "execution_count": null,
   "source": [],
   "outputs": [],
   "metadata": {}
  }
 ],
 "metadata": {
  "kernelspec": {
   "name": "python3",
   "display_name": "Python 3.8.8 64-bit ('base': conda)"
  },
  "language_info": {
   "codemirror_mode": {
    "name": "ipython",
    "version": 3
   },
   "file_extension": ".py",
   "mimetype": "text/x-python",
   "name": "python",
   "nbconvert_exporter": "python",
   "pygments_lexer": "ipython3",
   "version": "3.8.8"
  },
  "interpreter": {
   "hash": "d17d7f88acc476a87f349c44f381e1523cfb5f3231223d056696b4596488dbbd"
  }
 },
 "nbformat": 4,
 "nbformat_minor": 5
}