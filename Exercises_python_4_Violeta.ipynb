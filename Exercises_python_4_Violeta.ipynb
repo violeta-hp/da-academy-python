{
 "cells": [
  {
   "cell_type": "markdown",
   "id": "256a3d8e",
   "metadata": {},
   "source": [
    "### Exercise 1\n",
    "Write a function called \"sum_all\" that takes any number of arguments and returns their sum.\n",
    "#### Topics: Functions, *args"
   ]
  },
  {
   "cell_type": "code",
   "execution_count": 8,
   "id": "5c72965a",
   "metadata": {},
   "outputs": [
    {
     "name": "stdout",
     "output_type": "stream",
     "text": [
      "10\n"
     ]
    }
   ],
   "source": [
    "# Your answer here:\n",
    "def sum_all(*args):\n",
    "    return sum(args)\n",
    "print (sum_all(2, 3, 5))\n"
   ]
  },
  {
   "cell_type": "markdown",
   "id": "aaa10c7d",
   "metadata": {},
   "source": [
    "### Exercise 2\n",
    "Write a program that takes a birthday as input and prints the user’s age and the number of days, hours, minutes and seconds until their next birthday\n",
    "#### Topics: Date and time value manipulation"
   ]
  },
  {
   "cell_type": "code",
   "execution_count": 28,
   "id": "fb230bfa",
   "metadata": {},
   "outputs": [
    {
     "name": "stdout",
     "output_type": "stream",
     "text": [
      "1) Today is Tuesday\n",
      "2) You are 27 years old; 132d:8h:53m:31s until your next birthday.\n"
     ]
    }
   ],
   "source": [
    "# 1. Use the datetime module to write a program that gets the current date and prints the day of the week.\n",
    "\n",
    "import datetime\n",
    "\n",
    "rules = {0: \"Monday\", 1: \"Tuesday\", 2: \"Wednesday\", 3: \"Thursday\", 4: \"Friday\", 5: \"Saturday\", 6: \"Sunday\"}\n",
    "\n",
    "class Time(object):\n",
    "    now = datetime.datetime.now()\n",
    "\n",
    "    def __init__(self, year=1, month=1, day=1, hour=0, minute=0, second=0):\n",
    "        self.date = datetime.datetime(year, month, day, hour, minute, second)\n",
    "\n",
    "today = Time().now\n",
    "birthday = Time(1993, 12, 21).date\n",
    "\n",
    "def day_of_week():\n",
    "    return \"1) Today is %s\" % rules[today.weekday()]\n",
    "\n",
    "# 2. Write a program that takes a birthday as input and prints the user's age and the number of days, hours, \n",
    "#minutes and seconds until their next birthday.\n",
    "\n",
    "def birthday_stats(birthday):\n",
    "    age = today.year - birthday.year #resta el año de nac\n",
    "    if (birthday.month == today.month) and (birthday.day <= today.day): #to check if the month and day equal the one from birthday \n",
    "        pass #if not then \n",
    "    elif birthday.month < today.month: #means that birthdate is less than today's month\n",
    "        pass\n",
    "    else:\n",
    "        age -= 1 #we are not in the same year\n",
    "\n",
    "    birthday_ = Time(today.year, birthday.month, birthday.day).date #calls the birthdate from above in which I added mine\n",
    "    till_birthday = str(birthday_ - today).split() #subtracts today from birthdate\n",
    "\n",
    "    if len(till_birthday) > 1: #if the remaining day is more than 1 \n",
    "        days = int(till_birthday[0]) #takes it from till_birthdate\n",
    "        time = till_birthday[2].split(\":\")\n",
    "    else:\n",
    "        days = 365 \n",
    "        time = till_birthday[0].split(\":\")\n",
    "\n",
    "    hours = time[0]\n",
    "    mins = time[1]\n",
    "    secs = time[2][:2]\n",
    "\n",
    "    if (days < 0) and (days != 365):\n",
    "        days = 365 + days\n",
    "    elif (days == 365):\n",
    "        days = 0\n",
    "    else:\n",
    "        days = abs(days)\n",
    "\n",
    "    print (\"2) You are %s years old; %sd:%sh:%sm:%ss until your next birthday.\"\n",
    "    % (age, days, hours, mins, secs))\n",
    "print (day_of_week())\n",
    "birthday_stats(birthday)"
   ]
  },
  {
   "cell_type": "markdown",
   "id": "202c6df5",
   "metadata": {},
   "source": [
    "### Exercise 3\n",
    "Write a function to add a given number to each element from a list\n",
    "#### Topics: Lambda"
   ]
  },
  {
   "cell_type": "code",
   "execution_count": 44,
   "id": "ce550e5d",
   "metadata": {},
   "outputs": [
    {
     "data": {
      "text/plain": [
       "[1, 2, 3, 4, 5, 6, 7, 8, 9, 12]"
      ]
     },
     "execution_count": 44,
     "metadata": {},
     "output_type": "execute_result"
    }
   ],
   "source": [
    "#normal usage\n",
    "mylist = [1, 2, 3, 4, 5, 6, 7, 8, 9]\n",
    "gn = lambda x: x + 1\n",
    "mylist.append(gn(11))\n",
    "mylist"
   ]
  },
  {
   "cell_type": "code",
   "execution_count": 98,
   "id": "044423f7",
   "metadata": {},
   "outputs": [
    {
     "name": "stdout",
     "output_type": "stream",
     "text": [
      "[[13, 14, 15]]\n"
     ]
    }
   ],
   "source": [
    "# Your answer here:\n",
    "\n",
    "def modlist(n,k):\n",
    "    List = [1,2,3]\n",
    "    result= [] #in here we will have the output\n",
    "    for i in range(n): #item in the introduced number\n",
    "        List = [j + k for j in List] #j is the num in the list, k is the num introduced in this case 12\n",
    "        result.append(List) #the result is added to each num in the list\n",
    "        return result \n",
    "\n",
    "print(modlist(1,12))"
   ]
  },
  {
   "cell_type": "markdown",
   "id": "216bbc8b",
   "metadata": {},
   "source": [
    "### Exercise 4\n",
    "Write a function to filter even numbers from a list using lambda\n",
    "#### Topics: Lambda"
   ]
  },
  {
   "cell_type": "code",
   "execution_count": 4,
   "id": "13080390",
   "metadata": {},
   "outputs": [],
   "source": [
    "# Your answer here:\n",
    "def filter_even(data): \n",
    "    even=[]\n",
    "    for n in data:\n",
    "        if n%2==0: #checks if the number is even\n",
    "            even.append(n) #adds the number\n",
    "    return even\n",
    "    print(filter_even(2,3,6,8))"
   ]
  },
  {
   "cell_type": "markdown",
   "id": "79d4bf23",
   "metadata": {},
   "source": [
    "### Extra: complete exercises from codingbat: https://codingbat.com/python/Logic-2"
   ]
  },
  {
   "cell_type": "code",
   "execution_count": null,
   "id": "7b77fc00",
   "metadata": {},
   "outputs": [],
   "source": []
  }
 ],
 "metadata": {
  "kernelspec": {
   "display_name": "Python 3 (ipykernel)",
   "language": "python",
   "name": "python3"
  },
  "language_info": {
   "codemirror_mode": {
    "name": "ipython",
    "version": 3
   },
   "file_extension": ".py",
   "mimetype": "text/x-python",
   "name": "python",
   "nbconvert_exporter": "python",
   "pygments_lexer": "ipython3",
   "version": "3.9.6"
  }
 },
 "nbformat": 4,
 "nbformat_minor": 5
}
