{
 "cells": [
  {
   "cell_type": "markdown",
   "id": "256a3d8e",
   "metadata": {},
   "source": [
    "### Exercise 1\n",
    "Write a function called \"sum_all\" that takes any number of arguments and returns their sum.\n",
    "#### Topics: Functions, *args"
   ]
  },
  {
   "cell_type": "code",
   "execution_count": 8,
   "id": "5c72965a",
   "metadata": {},
   "outputs": [
    {
     "name": "stdout",
     "output_type": "stream",
     "text": [
      "10\n"
     ]
    }
   ],
   "source": [
    "# Your answer here:\n",
    "def sum_all(*args):\n",
    "    return sum(args)\n",
    "print (sum_all(2, 3, 5))\n"
   ]
  },
  {
   "cell_type": "markdown",
   "id": "aaa10c7d",
   "metadata": {},
   "source": [
    "### Exercise 2\n",
    "Write a program that takes a birthday as input and prints the user’s age and the number of days, hours, minutes and seconds until their next birthday\n",
    "#### Topics: Date and time value manipulation"
   ]
  },
  {
   "cell_type": "code",
   "execution_count": 27,
   "id": "fb230bfa",
   "metadata": {},
   "outputs": [
    {
     "name": "stdout",
     "output_type": "stream",
     "text": [
      "1) Today is Wednesday\n",
      "2) You are 27 years old; 131d:8h:20m:45s until your next birthday.\n"
     ]
    }
   ],
   "source": [
    "import datetime\n",
    "\n",
    "rules = {0: \"Monday\", 1: \"Tuesday\", 2: \"Wednesday\", 3: \"Thursday\", 4: \"Friday\", 5: \"Saturday\", 6: \"Sunday\"}\n",
    "\n",
    "class Time(object):\n",
    "    now = datetime.datetime.now()\n",
    "\n",
    "    def __init__(self, #self refers to whatever we introduced like in self.date\n",
    "                 year=1, #__init__ is a constructor\n",
    "                 month=1, \n",
    "                 day=1, \n",
    "                 hour=0, \n",
    "                 minute=0, \n",
    "                 second=0): \n",
    "        self.date = datetime.datetime(year, month, day, hour, minute, second)\n",
    "\n",
    "today = Time().now\n",
    "birthday = Time(1993, 12, 21).date\n",
    "\n",
    "def day_of_week():\n",
    "    return \"1) Today is %s\" % rules[today.weekday()]\n",
    "\n",
    "# 2. Write a program that takes a birthday as input and prints the user's age and the number of days, hours, \n",
    "#minutes and seconds until their next birthday.\n",
    "\n",
    "def birthday_stats(birthday):\n",
    "    age = today.year - birthday.year #resta el año de nac\n",
    "    if (birthday.month == today.month) and (birthday.day <= today.day): #to check if the month and day equal the one from birthday \n",
    "        pass #if not then \n",
    "    elif birthday.month < today.month: #means that birthdate is less than today's month\n",
    "        pass\n",
    "    else:\n",
    "        age -= 1 #we are not in the same year\n",
    "\n",
    "    birthday_ = Time(today.year, birthday.month, birthday.day).date #calls the birthdate from above in which I added mine\n",
    "    till_birthday = str(birthday_ - today).split() #subtracts today from birthdate\n",
    "\n",
    "    if len(till_birthday) > 1: #if the remaining day is more than 1 \n",
    "        days = int(till_birthday[0]) #takes it from till_birthdate\n",
    "        time = till_birthday[2].split(\":\") \n",
    "    else:\n",
    "        days = 365 \n",
    "        time = till_birthday[0].split(\":\")\n",
    "\n",
    "    hours = time[0]\n",
    "    mins = time[1]\n",
    "    secs = time[2][:2]\n",
    "\n",
    "    if (days < 0) and (days != 365):\n",
    "        days = 365 + days\n",
    "    elif (days == 365):\n",
    "        days = 0\n",
    "    else:\n",
    "        days = abs(days)\n",
    "\n",
    "    print (\"2) You are %s years old; %sd:%sh:%sm:%ss until your next birthday.\"\n",
    "    % (age, days, hours, mins, secs))\n",
    "print (day_of_week())\n",
    "birthday_stats(birthday)"
   ]
  },
  {
   "cell_type": "markdown",
   "id": "202c6df5",
   "metadata": {},
   "source": [
    "### Exercise 3\n",
    "Write a function to add a given number to each element from a list\n",
    "#### Topics: Lambda"
   ]
  },
  {
   "cell_type": "code",
   "execution_count": 44,
   "id": "ce550e5d",
   "metadata": {},
   "outputs": [
    {
     "data": {
      "text/plain": [
       "[1, 2, 3, 4, 5, 6, 7, 8, 9, 12]"
      ]
     },
     "execution_count": 44,
     "metadata": {},
     "output_type": "execute_result"
    }
   ],
   "source": [
    "#normal usage\n",
    "#example\n",
    "mylist = [1, 2, 3, 4, 5, 6, 7, 8, 9]\n",
    "gn = lambda x: x + 1\n",
    "mylist.append(gn(11))\n",
    "mylist"
   ]
  },
  {
   "cell_type": "code",
   "execution_count": 98,
   "id": "044423f7",
   "metadata": {},
   "outputs": [
    {
     "name": "stdout",
     "output_type": "stream",
     "text": [
      "[[13, 14, 15]]\n"
     ]
    }
   ],
   "source": [
    "# Your answer here:\n",
    "\n",
    "def modlist(n,k):\n",
    "    List = [1,2,3]\n",
    "    result= [] #in here we will have the output\n",
    "    for i in range(n): #item in the introduced number\n",
    "        List = [j + k for j in List] #j is the num in the list, k is the num introduced in this case 12\n",
    "        result.append(List) #the result is added to each num in the list\n",
    "        return result \n",
    "\n",
    "print(modlist(1,12))"
   ]
  },
  {
   "cell_type": "markdown",
   "id": "216bbc8b",
   "metadata": {},
   "source": [
    "### Exercise 4\n",
    "Write a function to filter even numbers from a list using lambda\n",
    "#### Topics: Lambda"
   ]
  },
  {
   "cell_type": "code",
   "execution_count": 4,
   "id": "13080390",
   "metadata": {},
   "outputs": [],
   "source": [
    "# Your answer here:\n",
    "def filter_even(data): \n",
    "    even=[]\n",
    "    for n in data:\n",
    "        if n%2==0: #checks if the number is even\n",
    "            even.append(n) #adds the number\n",
    "    return even\n",
    "    print(filter_even(2,3,6,8))"
   ]
  },
  {
   "cell_type": "markdown",
   "id": "07016df9",
   "metadata": {},
   "source": [
    "### Exercise 5\n",
    "\n",
    "Write a program that reads lorem.txt and prints only the words with more than 10 characters (not counting whitespace).\n",
    "        Topics: File handling, string method, lambda, loops"
   ]
  },
  {
   "cell_type": "code",
   "execution_count": 2,
   "id": "b7c80d59",
   "metadata": {},
   "outputs": [],
   "source": [
    "def reads_tf():\n",
    "    file= open(\"lorem.txt\")\n",
    "    for line in file:\n",
    "        words= line.strip() #strip returns removes the leading and the trailing characters (based on the string argument passed).\n",
    "        if len(words)>9: #len counts the words with more than 10 char \n",
    "            print(words)\n"
   ]
  },
  {
   "cell_type": "code",
   "execution_count": 3,
   "id": "390cb7e3",
   "metadata": {},
   "outputs": [
    {
     "name": "stdout",
     "output_type": "stream",
     "text": [
      "20\n"
     ]
    }
   ],
   "source": [
    "r = lambda reads_tf : reads_tf + 10\n",
    "print(r(10))\n",
    "r = lambda x, y : x * y"
   ]
  },
  {
   "cell_type": "markdown",
   "id": "79d4bf23",
   "metadata": {},
   "source": [
    "### Extra: complete exercises from codingbat: https://codingbat.com/python/Logic-2"
   ]
  },
  {
   "cell_type": "markdown",
   "id": "da06575d",
   "metadata": {},
   "source": [
    "### make_bricks\n",
    "We want to make a row of bricks that is goal inches long. We have a number of small bricks (1 inch each) and big bricks\n",
    "(5 inches each). Return True if it is possible to make the goal by choosing from the given bricks. This is a little harder \n",
    "than it looks and can be done without any loops. See also: Introduction to MakeBricks\n",
    "\n",
    "\n",
    "make_bricks(3, 1, 8) → True\n",
    "make_bricks(3, 1, 9) → False\n",
    "make_bricks(3, 2, 10) → True"
   ]
  },
  {
   "cell_type": "code",
   "execution_count": 2,
   "id": "88438d09",
   "metadata": {},
   "outputs": [],
   "source": [
    "def bricks(small,big,goal):\n",
    "    if small<(goal%5) or (small+big*5)<goal:\n",
    "        return False\n",
    "    else:\n",
    "        return True"
   ]
  },
  {
   "cell_type": "markdown",
   "id": "b5cf7a50",
   "metadata": {},
   "source": [
    "### lone_sum\n",
    "\n",
    "Given 3 int values, a b c, return their sum. However, if one of the values is the same as another of the values, it does not count towards the sum.\n",
    "lone_sum(1, 2, 3) → 6\n",
    "lone_sum(3, 2, 3) → 2\n",
    "lone_sum(3, 3, 3) → 0\n"
   ]
  },
  {
   "cell_type": "code",
   "execution_count": 3,
   "id": "e5b870f7",
   "metadata": {},
   "outputs": [],
   "source": [
    "def lone_sum(a, b, c):\n",
    "    if a==b:\n",
    "        return c\n",
    "    elif a==c:\n",
    "        return b\n",
    "    elif b==c:\n",
    "        return a\n",
    "    elif a==b and a==c:\n",
    "        return 0\n",
    "    else:\n",
    "        return a+b+c\n",
    "    \n"
   ]
  },
  {
   "cell_type": "markdown",
   "id": "47d8288d",
   "metadata": {},
   "source": [
    "### lucky_sum\n",
    "Given 3 int values, a b c, return their sum. However, if one of the values is 13 then it does not count towards the sum and values to its right do not count. So for example, if b is 13, then both b and c do not count.\n",
    "lucky_sum(1, 2, 3) → 6\n",
    "lucky_sum(1, 2, 13) → 3\n",
    "lucky_sum(1, 13, 3) → 1"
   ]
  },
  {
   "cell_type": "code",
   "execution_count": 4,
   "id": "56713dce",
   "metadata": {},
   "outputs": [],
   "source": [
    "def lucky_sum(a, b, c):\n",
    "    if a == 13:\n",
    "        return 0\n",
    "    elif b == 13:\n",
    "        return a\n",
    "    elif c == 13:\n",
    "        return a + b\n",
    "    return a + b + c"
   ]
  },
  {
   "cell_type": "markdown",
   "id": "bb5b8b48",
   "metadata": {},
   "source": [
    "### no_teen_sum\n",
    "Given 3 int values, a b c, return their sum. However, if any of the values is a teen -- in the range 13..19 inclusive -- then that value counts as 0, except 15 and 16 do not count as a teens. Write a separate helper \"def fix_teen(n):\"that takes in an int value and returns that value fixed for the teen rule. In this way, you avoid repeating the teen code 3 times (i.e. \"decomposition\"). Define the helper below and at the same indent level as the main no_teen_sum().\n",
    "\n",
    "\n",
    "no_teen_sum(1, 2, 3) → 6\n",
    "no_teen_sum(2, 13, 1) → 3\n",
    "no_teen_sum(2, 1, 14) → 3"
   ]
  },
  {
   "cell_type": "code",
   "execution_count": 5,
   "id": "33f8c322",
   "metadata": {},
   "outputs": [],
   "source": [
    "def no_teen_sum(a, b, c):\n",
    "    return fix_teen(a) + fix_teen(b) + fix_teen(c)\n",
    "    \n",
    "def fix_teen(n):\n",
    "    if 13 <= n and n <= 19 and n != 15 and n!= 16:\n",
    "        return 0\n",
    "            \n",
    "    return n"
   ]
  },
  {
   "cell_type": "markdown",
   "id": "135efd8b",
   "metadata": {},
   "source": [
    "### round_sum\n",
    "For this problem, we'll round an int value up to the next multiple of 10 if its rightmost digit is 5 or more, so 15 rounds up to 20. Alternately, round down to the previous multiple of 10 if its rightmost digit is less than 5, so 12 rounds down to 10. Given 3 ints, a b c, return the sum of their rounded values. To avoid code repetition, write a separate helper \"def round10(num):\" and call it 3 times. Write the helper entirely below and at the same indent level as round_sum().\n",
    "\n",
    "\n",
    "round_sum(16, 17, 18) → 60\n",
    "round_sum(12, 13, 14) → 30\n",
    "round_sum(6, 4, 4) → 10"
   ]
  },
  {
   "cell_type": "code",
   "execution_count": 1,
   "id": "32f9a8ee",
   "metadata": {},
   "outputs": [],
   "source": [
    "def round_sum(a, b, c): #in case the num were 16,17,18\n",
    "    return round10(a) + round10(b) + round10(c)\n",
    "    \n",
    "def round10(num):\n",
    "    if num % 10 < 5: #Round down to the previous multiple of 10 if its rightmost digit is less than 5, ex: 51%10 is 1 \n",
    "        return num - (num % 10) #51-(1) equals 50\n",
    "        \n",
    "    return num + (10 - num % 10) #51+9 equals 60"
   ]
  },
  {
   "cell_type": "markdown",
   "id": "8cd10db2",
   "metadata": {},
   "source": [
    "### close_far\n",
    "Given three ints, a b c, return True if one of b or c is \"close\" (differing from a by at most 1), while the other is \"far\", differing from both other values by 2 or more. Note: abs(num) computes the absolute value of a number.\n",
    "\n",
    "close_far(1, 2, 10) → True\n",
    "close_far(1, 2, 3) → False\n",
    "close_far(4, 1, 3) → True\n"
   ]
  },
  {
   "cell_type": "code",
   "execution_count": 7,
   "id": "cba1ec13",
   "metadata": {},
   "outputs": [],
   "source": [
    "def close_far(a, b, c): #1,2,10\n",
    "    a_b_diff = abs(a-b) #1-2\n",
    "    a_c_diff = abs(a-c) #1-10\n",
    "    b_c_diff = abs(b-c) #2-10\n",
    "\n",
    "    return (\n",
    "        (a_b_diff <= 1 and a_c_diff >= 2 and b_c_diff >= 2) !=\n",
    "        (a_c_diff <= 1 and a_b_diff >= 2 and b_c_diff >= 2)\n",
    "    )"
   ]
  },
  {
   "cell_type": "markdown",
   "id": "0c42f682",
   "metadata": {},
   "source": [
    "### make_chocolate\n",
    "We want to make a package of goal kilos of chocolate. We have small bars (1 kilo each) and big bars (5 kilos each). Return the number of small bars to use, assuming we always use big bars before small bars. Return -1 if it can't be done.\n",
    "make_chocolate(4, 1, 9) → 4\n",
    "make_chocolate(4, 1, 10) → -1\n",
    "make_chocolate(4, 1, 7) → 2"
   ]
  },
  {
   "cell_type": "code",
   "execution_count": 5,
   "id": "f3b004f5",
   "metadata": {},
   "outputs": [],
   "source": [
    "def make_chocolate(small, big, goal):\n",
    "    smallNeeded = goal-big*5\n",
    "    if(goal> big * 5 + small):\n",
    "        return -1\n",
    "    if(smallNeeded <= small and smallNeeded >=0):\n",
    "        return smallNeeded\n",
    "    if (smallNeeded <0 and goal % 5 <= small):\n",
    "        return goal % 5\n",
    "        return -1 #if it fails"
   ]
  },
  {
   "cell_type": "code",
   "execution_count": null,
   "id": "8275027f",
   "metadata": {},
   "outputs": [],
   "source": []
  }
 ],
 "metadata": {
  "kernelspec": {
   "display_name": "Python 3 (ipykernel)",
   "language": "python",
   "name": "python3"
  },
  "language_info": {
   "codemirror_mode": {
    "name": "ipython",
    "version": 3
   },
   "file_extension": ".py",
   "mimetype": "text/x-python",
   "name": "python",
   "nbconvert_exporter": "python",
   "pygments_lexer": "ipython3",
   "version": "3.9.6"
  }
 },
 "nbformat": 4,
 "nbformat_minor": 5
}
